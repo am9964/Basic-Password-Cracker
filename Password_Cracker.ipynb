{
  "nbformat": 4,
  "nbformat_minor": 0,
  "metadata": {
    "colab": {
      "name": "Password Cracker",
      "provenance": [],
      "collapsed_sections": [],
      "authorship_tag": "ABX9TyMbKf54/b/j+OlRIQoxkxvx",
      "include_colab_link": true
    },
    "kernelspec": {
      "name": "python3",
      "display_name": "Python 3"
    },
    "language_info": {
      "name": "python"
    }
  },
  "cells": [
    {
      "cell_type": "markdown",
      "metadata": {
        "id": "view-in-github",
        "colab_type": "text"
      },
      "source": [
        "<a href=\"https://colab.research.google.com/github/am9964/Basic-Password-Cracker/blob/main/Password_Cracker.ipynb\" target=\"_parent\"><img src=\"https://colab.research.google.com/assets/colab-badge.svg\" alt=\"Open In Colab\"/></a>"
      ]
    },
    {
      "cell_type": "code",
      "metadata": {
        "id": "VvH4DOTM1SbG",
        "colab": {
          "base_uri": "https://localhost:8080/"
        },
        "outputId": "d0918484-7835-42ee-9e54-ec9e22d720c7"
      },
      "source": [
        "import hashlib\n",
        "\n",
        "flag = 0\n",
        "counter = 0\n",
        "\n",
        "pass_hash = input(\"Enter md5 hash: \")\n",
        "\n",
        "wordlist = input(\"Enter File Name with extension: \")\n",
        "\n",
        "try:\n",
        "\n",
        "  pass_file = open(wordlist, \"r\")\n",
        "\n",
        "except:\n",
        "  print(\"No file found\")\n",
        "  quit()\n",
        "\n",
        "for word in pass_file:\n",
        "\n",
        "  enc_wrd = word.encode('utf-8')\n",
        "  digest = hashlib.md5(enc_wrd.strip()).hexdigest()\n",
        "\n",
        "  counter+=1\n",
        "  if(digest==pass_hash):\n",
        "    print(\"Password Found\")\n",
        "    print(\"Password is: \",word)\n",
        "    flag=1\n",
        "    break\n",
        "if(flag==0):\n",
        "  print(\"Password not in the list. Please try again after updating it.\")\n"
      ],
      "execution_count": 25,
      "outputs": [
        {
          "output_type": "stream",
          "name": "stdout",
          "text": [
            "Enter md5 hash: zxcfvghjkdfghjklxcvbhjkl\n",
            "Enter File Name with extension: paswd.txt\n",
            "Password not in the list. Please try again after updating it.\n"
          ]
        }
      ]
    },
    {
      "cell_type": "code",
      "metadata": {
        "colab": {
          "base_uri": "https://localhost:8080/"
        },
        "id": "K5ppqJa43dla",
        "outputId": "e4e73473-2b59-47d8-e066-7413a24a7453"
      },
      "source": [
        "import hashlib\n",
        "\n",
        "c='Y'\n",
        "while (c=='Y'):\n",
        "  word=input(\"Enter word: \")\n",
        "\n",
        "  #enc_wrd= word.encode(\"utf-8\")\n",
        "  #digest = hashlib.md5(enc_wrd.strip()).hexdigest()\n",
        "  f=open(\"paswd.txt\",\"a\")  \n",
        "  f.write(word)\n",
        "  f.write('\\n')\n",
        "  f.close()\n",
        "  c=input(\"Y/N: \").upper()\n"
      ],
      "execution_count": 20,
      "outputs": [
        {
          "name": "stdout",
          "output_type": "stream",
          "text": [
            "Enter word: scissor\n",
            "Y/N: y\n",
            "Enter word: uchie\n",
            "Y/N: y\n",
            "Enter word: hothur\n",
            "Y/N: \n"
          ]
        }
      ]
    },
    {
      "cell_type": "code",
      "metadata": {
        "id": "0wVe4VkB45Nz",
        "colab": {
          "base_uri": "https://localhost:8080/"
        },
        "outputId": "02ea4df8-7e1f-4f26-983e-37a26bbe2442"
      },
      "source": [
        "import hashlib\n",
        "\n",
        "word = input()\n",
        "enc_wrd= word.encode(\"utf-8\")\n",
        "digest = hashlib.md5(enc_wrd.strip()).hexdigest()\n",
        "\n",
        "print(digest)"
      ],
      "execution_count": 23,
      "outputs": [
        {
          "output_type": "stream",
          "name": "stdout",
          "text": [
            "dilip\n",
            "7112f39dfcf02fb8d032a18945479ac2\n"
          ]
        }
      ]
    },
    {
      "cell_type": "code",
      "metadata": {
        "id": "WjEeR5BUmZnx"
      },
      "source": [
        ""
      ],
      "execution_count": null,
      "outputs": []
    }
  ]
}